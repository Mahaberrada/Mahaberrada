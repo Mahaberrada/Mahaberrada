{
 "cells": [
  {
   "cell_type": "code",
   "execution_count": 3,
   "id": "124dcdf2",
   "metadata": {},
   "outputs": [],
   "source": [
    "import random"
   ]
  },
  {
   "cell_type": "code",
   "execution_count": 15,
   "id": "8dba7616",
   "metadata": {},
   "outputs": [
    {
     "name": "stdout",
     "output_type": "stream",
     "text": [
      "bonjour maha\n",
      "bonjour haroun\n",
      "bonjour reda\n",
      "bonjour amine\n",
      "bonjour adam\n"
     ]
    }
   ],
   "source": [
    "r=(\"maha\",\n",
    "   \"haroun\",\n",
    "   \"reda\",\n",
    "   \"amine\",\n",
    "   \"adam\")\n",
    "for maha in r:\n",
    "    print (\"bonjour \"+maha)"
   ]
  }
 ],
 "metadata": {
  "kernelspec": {
   "display_name": "Python 3 (ipykernel)",
   "language": "python",
   "name": "python3"
  },
  "language_info": {
   "codemirror_mode": {
    "name": "ipython",
    "version": 3
   },
   "file_extension": ".py",
   "mimetype": "text/x-python",
   "name": "python",
   "nbconvert_exporter": "python",
   "pygments_lexer": "ipython3",
   "version": "3.11.5"
  }
 },
 "nbformat": 4,
 "nbformat_minor": 5
}
