{
 "cells": [
  {
   "cell_type": "code",
   "execution_count": 1,
   "id": "894d0061",
   "metadata": {},
   "outputs": [],
   "source": [
    "def calculatrice(n1,n2): \n",
    "    up = input(\"Entrez l'opérateur\")\n",
    "    if up == \"+\":\n",
    "        return n1+n2\n",
    "    elif up == \"-\":\n",
    "        return n1-n2\n",
    "    elif up == \"*\":\n",
    "        return n1*n2\n",
    "    elif up == \"/\":\n",
    "        return n1/n2"
   ]
  },
  {
   "cell_type": "code",
   "execution_count": 2,
   "id": "474204f1",
   "metadata": {},
   "outputs": [
    {
     "name": "stdout",
     "output_type": "stream",
     "text": [
      "moi donne un numéro10\n",
      "moi donne un numéro5\n",
      "Entrez l'opérateur*\n"
     ]
    },
    {
     "data": {
      "text/plain": [
       "50"
      ]
     },
     "execution_count": 2,
     "metadata": {},
     "output_type": "execute_result"
    }
   ],
   "source": [
    "n1 = int(input ('donne moi un nombre'))\n",
    "n2 = int(input ('donne moi un nombre'))\n",
    "calculatrice (n1,n2)"
   ]
  },
  {
   "cell_type": "code",
   "execution_count": null,
   "id": "e4a7fef0",
   "metadata": {},
   "outputs": [],
   "source": []
  }
 ],
 "metadata": {
  "kernelspec": {
   "display_name": "Python 3 (ipykernel)",
   "language": "python",
   "name": "python3"
  },
  "language_info": {
   "codemirror_mode": {
    "name": "ipython",
    "version": 3
   },
   "file_extension": ".py",
   "mimetype": "text/x-python",
   "name": "python",
   "nbconvert_exporter": "python",
   "pygments_lexer": "ipython3",
   "version": "3.11.5"
  }
 },
 "nbformat": 4,
 "nbformat_minor": 5
}
