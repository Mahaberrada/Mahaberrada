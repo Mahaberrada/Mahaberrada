{
 "cells": [
  {
   "cell_type": "code",
   "execution_count": 4,
   "id": "58f0e862",
   "metadata": {},
   "outputs": [],
   "source": [
    "L=[2,3,6]"
   ]
  },
  {
   "cell_type": "code",
   "execution_count": 5,
   "id": "971b8e77",
   "metadata": {},
   "outputs": [],
   "source": [
    "p = 1\n",
    "for e in L :\n",
    "    p=p*e"
   ]
  },
  {
   "cell_type": "code",
   "execution_count": 6,
   "id": "75d338b0",
   "metadata": {},
   "outputs": [
    {
     "data": {
      "text/plain": [
       "[2, 3, 6]"
      ]
     },
     "execution_count": 6,
     "metadata": {},
     "output_type": "execute_result"
    }
   ],
   "source": [
    "L"
   ]
  },
  {
   "cell_type": "code",
   "execution_count": 7,
   "id": "30a897a2",
   "metadata": {},
   "outputs": [],
   "source": [
    "d1 = {\"a\":100,\"b\":400,\"c\":300}"
   ]
  },
  {
   "cell_type": "code",
   "execution_count": 9,
   "id": "5579f88a",
   "metadata": {},
   "outputs": [],
   "source": [
    "d2 = {\"a\":300,\"b\":100,\"c\":100}"
   ]
  },
  {
   "cell_type": "code",
   "execution_count": 14,
   "id": "3b703de6",
   "metadata": {},
   "outputs": [
    {
     "data": {
      "text/plain": [
       "[(2, 1), (1, 2), (2, 3), (4, 4), (2, 5)]"
      ]
     },
     "execution_count": 14,
     "metadata": {},
     "output_type": "execute_result"
    }
   ],
   "source": [
    "L = [(2, 5), (1, 2), (4, 4), (2, 3), (2, 1)]\n",
    "f = lambda t:t[-1]\n",
    "L.sort(key=f)\n",
    "L"
   ]
  },
  {
   "cell_type": "code",
   "execution_count": 17,
   "id": "ab49ec81",
   "metadata": {},
   "outputs": [],
   "source": [
    "d1 = {'a' : 100, 'b' : 200, 'c' :300}\n",
    "\n",
    "d2 = {'a' : 300, 'b' : 200, 'd' : 400}\n",
    "dsomme = {}\n",
    "\n",
    "keys = d1.keys()|d2.keys()\n",
    "for k in keys:\n",
    "    dsomme[k] = d1.get(k,0) + d2.get(k,0)"
   ]
  },
  {
   "cell_type": "code",
   "execution_count": 18,
   "id": "c9c22d5e",
   "metadata": {},
   "outputs": [
    {
     "data": {
      "text/plain": [
       "{'d': 400, 'b': 400, 'a': 400, 'c': 300}"
      ]
     },
     "execution_count": 18,
     "metadata": {},
     "output_type": "execute_result"
    }
   ],
   "source": [
    "dsomme"
   ]
  },
  {
   "cell_type": "code",
   "execution_count": 21,
   "id": "9999a9cf",
   "metadata": {},
   "outputs": [
    {
     "data": {
      "text/plain": [
       "{1: 1, 2: 4, 3: 9, 4: 16, 5: 25, 6: 36, 7: 49, 8: 64}"
      ]
     },
     "execution_count": 21,
     "metadata": {},
     "output_type": "execute_result"
    }
   ],
   "source": [
    "d = {}\n",
    "\n",
    "\n",
    "for i in range(1, 9):\n",
    "    d[i] = i*i\n",
    "    \n",
    "d"
   ]
  },
  {
   "cell_type": "code",
   "execution_count": null,
   "id": "dd2d1b5b",
   "metadata": {},
   "outputs": [],
   "source": []
  }
 ],
 "metadata": {
  "kernelspec": {
   "display_name": "Python 3 (ipykernel)",
   "language": "python",
   "name": "python3"
  },
  "language_info": {
   "codemirror_mode": {
    "name": "ipython",
    "version": 3
   },
   "file_extension": ".py",
   "mimetype": "text/x-python",
   "name": "python",
   "nbconvert_exporter": "python",
   "pygments_lexer": "ipython3",
   "version": "3.11.5"
  }
 },
 "nbformat": 4,
 "nbformat_minor": 5
}
